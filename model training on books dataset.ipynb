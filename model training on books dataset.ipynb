{
 "cells": [
  {
   "cell_type": "code",
   "execution_count": 1,
   "id": "c3b2986e",
   "metadata": {},
   "outputs": [],
   "source": [
    "import pandas as pd\n",
    "import numpy as np"
   ]
  },
  {
   "cell_type": "markdown",
   "id": "e83ca039",
   "metadata": {},
   "source": [
    "### Step 1  Loading the csv file.  "
   ]
  },
  {
   "cell_type": "code",
   "execution_count": 2,
   "id": "1b07306b",
   "metadata": {},
   "outputs": [],
   "source": [
    "cols = ['bookID' ,'title',  'authors', 'average_rating', 'isbn', 'isbn13', 'language_code', 'num_pages', 'ratings_count',      \n",
    "        'text_reviews_count', 'publication_date', 'publisher',  'coauthor']\n",
    "df = pd.read_csv(r'books_data.csv', names=cols, skiprows=1,engine='python', quotechar=',', on_bad_lines='warn')"
   ]
  },
  {
   "cell_type": "markdown",
   "id": "9e3ea9ad",
   "metadata": {},
   "source": [
    "#### Note we have used quoting charcter ',' to prevent quoting issues.\n",
    "####  Also engine is python. It is used when no of columns are variable."
   ]
  },
  {
   "cell_type": "code",
   "execution_count": 3,
   "id": "180af4b6",
   "metadata": {},
   "outputs": [
    {
     "name": "stdout",
     "output_type": "stream",
     "text": [
      "<class 'pandas.core.frame.DataFrame'>\n",
      "RangeIndex: 11127 entries, 0 to 11126\n",
      "Data columns (total 13 columns):\n",
      " #   Column              Non-Null Count  Dtype \n",
      "---  ------              --------------  ----- \n",
      " 0   bookID              11127 non-null  int64 \n",
      " 1   title               11127 non-null  object\n",
      " 2   authors             11127 non-null  object\n",
      " 3   average_rating      11127 non-null  object\n",
      " 4   isbn                11127 non-null  object\n",
      " 5   isbn13              11127 non-null  object\n",
      " 6   language_code       11127 non-null  object\n",
      " 7   num_pages           11127 non-null  object\n",
      " 8   ratings_count       11127 non-null  int64 \n",
      " 9   text_reviews_count  11127 non-null  int64 \n",
      " 10  publication_date    11127 non-null  object\n",
      " 11  publisher           11127 non-null  object\n",
      " 12  coauthor            4 non-null      object\n",
      "dtypes: int64(3), object(10)\n",
      "memory usage: 1.1+ MB\n"
     ]
    }
   ],
   "source": [
    "df.info()"
   ]
  },
  {
   "cell_type": "code",
   "execution_count": 4,
   "id": "009ddeef",
   "metadata": {},
   "outputs": [
    {
     "data": {
      "text/html": [
       "<div>\n",
       "<style scoped>\n",
       "    .dataframe tbody tr th:only-of-type {\n",
       "        vertical-align: middle;\n",
       "    }\n",
       "\n",
       "    .dataframe tbody tr th {\n",
       "        vertical-align: top;\n",
       "    }\n",
       "\n",
       "    .dataframe thead th {\n",
       "        text-align: right;\n",
       "    }\n",
       "</style>\n",
       "<table border=\"1\" class=\"dataframe\">\n",
       "  <thead>\n",
       "    <tr style=\"text-align: right;\">\n",
       "      <th></th>\n",
       "      <th>bookID</th>\n",
       "      <th>title</th>\n",
       "      <th>authors</th>\n",
       "      <th>average_rating</th>\n",
       "      <th>isbn</th>\n",
       "      <th>isbn13</th>\n",
       "      <th>language_code</th>\n",
       "      <th>num_pages</th>\n",
       "      <th>ratings_count</th>\n",
       "      <th>text_reviews_count</th>\n",
       "      <th>publication_date</th>\n",
       "      <th>publisher</th>\n",
       "      <th>coauthor</th>\n",
       "    </tr>\n",
       "  </thead>\n",
       "  <tbody>\n",
       "    <tr>\n",
       "      <th>0</th>\n",
       "      <td>1</td>\n",
       "      <td>Harry Potter and the Half-Blood Prince (Harry ...</td>\n",
       "      <td>J.K. Rowling/Mary GrandPré</td>\n",
       "      <td>4.57</td>\n",
       "      <td>0439785960</td>\n",
       "      <td>9780439785969</td>\n",
       "      <td>eng</td>\n",
       "      <td>652</td>\n",
       "      <td>2095690</td>\n",
       "      <td>27591</td>\n",
       "      <td>9/16/2006</td>\n",
       "      <td>Scholastic Inc.</td>\n",
       "      <td>None</td>\n",
       "    </tr>\n",
       "    <tr>\n",
       "      <th>1</th>\n",
       "      <td>2</td>\n",
       "      <td>Harry Potter and the Order of the Phoenix (Har...</td>\n",
       "      <td>J.K. Rowling/Mary GrandPré</td>\n",
       "      <td>4.49</td>\n",
       "      <td>0439358078</td>\n",
       "      <td>9780439358071</td>\n",
       "      <td>eng</td>\n",
       "      <td>870</td>\n",
       "      <td>2153167</td>\n",
       "      <td>29221</td>\n",
       "      <td>9/1/2004</td>\n",
       "      <td>Scholastic Inc.</td>\n",
       "      <td>None</td>\n",
       "    </tr>\n",
       "  </tbody>\n",
       "</table>\n",
       "</div>"
      ],
      "text/plain": [
       "   bookID                                              title  \\\n",
       "0       1  Harry Potter and the Half-Blood Prince (Harry ...   \n",
       "1       2  Harry Potter and the Order of the Phoenix (Har...   \n",
       "\n",
       "                      authors average_rating        isbn         isbn13  \\\n",
       "0  J.K. Rowling/Mary GrandPré           4.57  0439785960  9780439785969   \n",
       "1  J.K. Rowling/Mary GrandPré           4.49  0439358078  9780439358071   \n",
       "\n",
       "  language_code num_pages  ratings_count  text_reviews_count publication_date  \\\n",
       "0           eng       652        2095690               27591        9/16/2006   \n",
       "1           eng       870        2153167               29221         9/1/2004   \n",
       "\n",
       "         publisher coauthor  \n",
       "0  Scholastic Inc.     None  \n",
       "1  Scholastic Inc.     None  "
      ]
     },
     "execution_count": 4,
     "metadata": {},
     "output_type": "execute_result"
    }
   ],
   "source": [
    "df.head(2)"
   ]
  },
  {
   "cell_type": "markdown",
   "id": "2158b5af",
   "metadata": {},
   "source": [
    "###  Step 2 Remove dirty data for four rows."
   ]
  },
  {
   "cell_type": "markdown",
   "id": "52e8e717",
   "metadata": {},
   "source": [
    "#### As we can see the last column is problematic. Its is actually a co author name. But this co author name is present for only four rows in the datsset. "
   ]
  },
  {
   "cell_type": "markdown",
   "id": "dbce8c71",
   "metadata": {},
   "source": [
    "#### Lets examine those four rows. "
   ]
  },
  {
   "cell_type": "code",
   "execution_count": 5,
   "id": "5204c2ac",
   "metadata": {},
   "outputs": [],
   "source": [
    "dirty = df.loc[~df['coauthor'].isnull(), : ]"
   ]
  },
  {
   "cell_type": "code",
   "execution_count": 6,
   "id": "acad5a04",
   "metadata": {},
   "outputs": [
    {
     "data": {
      "text/html": [
       "<div>\n",
       "<style scoped>\n",
       "    .dataframe tbody tr th:only-of-type {\n",
       "        vertical-align: middle;\n",
       "    }\n",
       "\n",
       "    .dataframe tbody tr th {\n",
       "        vertical-align: top;\n",
       "    }\n",
       "\n",
       "    .dataframe thead th {\n",
       "        text-align: right;\n",
       "    }\n",
       "</style>\n",
       "<table border=\"1\" class=\"dataframe\">\n",
       "  <thead>\n",
       "    <tr style=\"text-align: right;\">\n",
       "      <th></th>\n",
       "      <th>bookID</th>\n",
       "      <th>title</th>\n",
       "      <th>authors</th>\n",
       "      <th>average_rating</th>\n",
       "      <th>isbn</th>\n",
       "      <th>isbn13</th>\n",
       "      <th>language_code</th>\n",
       "      <th>num_pages</th>\n",
       "      <th>ratings_count</th>\n",
       "      <th>text_reviews_count</th>\n",
       "      <th>publication_date</th>\n",
       "      <th>publisher</th>\n",
       "      <th>coauthor</th>\n",
       "    </tr>\n",
       "  </thead>\n",
       "  <tbody>\n",
       "    <tr>\n",
       "      <th>3348</th>\n",
       "      <td>12224</td>\n",
       "      <td>Streetcar Suburbs: The Process of Growth in Bo...</td>\n",
       "      <td>Sam Bass Warner</td>\n",
       "      <td>Jr./Sam B. Warner</td>\n",
       "      <td>3.58</td>\n",
       "      <td>0674842111</td>\n",
       "      <td>9780674842113</td>\n",
       "      <td>en-US</td>\n",
       "      <td>236</td>\n",
       "      <td>61</td>\n",
       "      <td>6</td>\n",
       "      <td>4/20/2004</td>\n",
       "      <td>Harvard University Press</td>\n",
       "    </tr>\n",
       "    <tr>\n",
       "      <th>4702</th>\n",
       "      <td>16914</td>\n",
       "      <td>The Tolkien Fan's Medieval Reader</td>\n",
       "      <td>David E. Smith (Turgon of TheOneRing.net</td>\n",
       "      <td>one of the founding members of this Tolkien w...</td>\n",
       "      <td>3.58</td>\n",
       "      <td>1593600119</td>\n",
       "      <td>9781593600112</td>\n",
       "      <td>eng</td>\n",
       "      <td>400</td>\n",
       "      <td>26</td>\n",
       "      <td>4</td>\n",
       "      <td>4/6/2004</td>\n",
       "      <td>Cold Spring Press\\t</td>\n",
       "    </tr>\n",
       "    <tr>\n",
       "      <th>5877</th>\n",
       "      <td>22128</td>\n",
       "      <td>Patriots (The Coming Collapse)</td>\n",
       "      <td>James Wesley</td>\n",
       "      <td>Rawles</td>\n",
       "      <td>3.63</td>\n",
       "      <td>156384155X</td>\n",
       "      <td>9781563841552</td>\n",
       "      <td>eng</td>\n",
       "      <td>342</td>\n",
       "      <td>38</td>\n",
       "      <td>4</td>\n",
       "      <td>1/15/1999</td>\n",
       "      <td>Huntington House Publishers</td>\n",
       "    </tr>\n",
       "    <tr>\n",
       "      <th>8979</th>\n",
       "      <td>34889</td>\n",
       "      <td>Brown's Star Atlas: Showing All The Bright Sta...</td>\n",
       "      <td>Brown</td>\n",
       "      <td>Son &amp; Ferguson</td>\n",
       "      <td>0.00</td>\n",
       "      <td>0851742718</td>\n",
       "      <td>9780851742717</td>\n",
       "      <td>eng</td>\n",
       "      <td>49</td>\n",
       "      <td>0</td>\n",
       "      <td>0</td>\n",
       "      <td>5/1/1977</td>\n",
       "      <td>Brown Son &amp; Ferguson Ltd.</td>\n",
       "    </tr>\n",
       "  </tbody>\n",
       "</table>\n",
       "</div>"
      ],
      "text/plain": [
       "      bookID                                              title  \\\n",
       "3348   12224  Streetcar Suburbs: The Process of Growth in Bo...   \n",
       "4702   16914                  The Tolkien Fan's Medieval Reader   \n",
       "5877   22128                     Patriots (The Coming Collapse)   \n",
       "8979   34889  Brown's Star Atlas: Showing All The Bright Sta...   \n",
       "\n",
       "                                       authors  \\\n",
       "3348                           Sam Bass Warner   \n",
       "4702  David E. Smith (Turgon of TheOneRing.net   \n",
       "5877                              James Wesley   \n",
       "8979                                     Brown   \n",
       "\n",
       "                                         average_rating  isbn      isbn13  \\\n",
       "3348                                  Jr./Sam B. Warner  3.58  0674842111   \n",
       "4702   one of the founding members of this Tolkien w...  3.58  1593600119   \n",
       "5877                                             Rawles  3.63  156384155X   \n",
       "8979                                     Son & Ferguson  0.00  0851742718   \n",
       "\n",
       "      language_code num_pages  ratings_count  text_reviews_count  \\\n",
       "3348  9780674842113     en-US            236                  61   \n",
       "4702  9781593600112       eng            400                  26   \n",
       "5877  9781563841552       eng            342                  38   \n",
       "8979  9780851742717       eng             49                   0   \n",
       "\n",
       "     publication_date  publisher                     coauthor  \n",
       "3348                6  4/20/2004     Harvard University Press  \n",
       "4702                4   4/6/2004          Cold Spring Press\\t  \n",
       "5877                4  1/15/1999  Huntington House Publishers  \n",
       "8979                0   5/1/1977    Brown Son & Ferguson Ltd.  "
      ]
     },
     "execution_count": 6,
     "metadata": {},
     "output_type": "execute_result"
    }
   ],
   "source": [
    "dirty"
   ]
  },
  {
   "cell_type": "markdown",
   "id": "2e7ba743",
   "metadata": {},
   "source": [
    "#### The average rating for these four rows is actaully a author name. "
   ]
  },
  {
   "cell_type": "code",
   "execution_count": 7,
   "id": "c62dcd02",
   "metadata": {},
   "outputs": [],
   "source": [
    "coauthor = dirty.loc[:, 'average_rating']\n",
    "coauthor = coauthor.rename(\"author2\")"
   ]
  },
  {
   "cell_type": "markdown",
   "id": "eae4ded3",
   "metadata": {},
   "source": [
    "#### We will shift every other column to the left and we call this right side of data frame. "
   ]
  },
  {
   "cell_type": "code",
   "execution_count": 8,
   "id": "9665c747",
   "metadata": {},
   "outputs": [],
   "source": [
    "right = dirty.loc[:, 'average_rating':'coauthor'].shift(periods=-1, axis=1)"
   ]
  },
  {
   "cell_type": "markdown",
   "id": "d443dae1",
   "metadata": {},
   "source": [
    "#### All the other columns before author and taken as left. "
   ]
  },
  {
   "cell_type": "code",
   "execution_count": 9,
   "id": "dfb8e22b",
   "metadata": {},
   "outputs": [],
   "source": [
    "left = dirty.loc[:, :'authors']"
   ]
  },
  {
   "cell_type": "markdown",
   "id": "0613e601",
   "metadata": {},
   "source": [
    "#### We will merge the co author with author.  "
   ]
  },
  {
   "cell_type": "code",
   "execution_count": 10,
   "id": "46eb4a6a",
   "metadata": {},
   "outputs": [],
   "source": [
    "left['authors'] = left['authors'] + coauthor"
   ]
  },
  {
   "cell_type": "markdown",
   "id": "0bb41961",
   "metadata": {},
   "source": [
    "#### The left side will look like this. "
   ]
  },
  {
   "cell_type": "code",
   "execution_count": 11,
   "id": "24e5fe7e",
   "metadata": {},
   "outputs": [
    {
     "data": {
      "text/html": [
       "<div>\n",
       "<style scoped>\n",
       "    .dataframe tbody tr th:only-of-type {\n",
       "        vertical-align: middle;\n",
       "    }\n",
       "\n",
       "    .dataframe tbody tr th {\n",
       "        vertical-align: top;\n",
       "    }\n",
       "\n",
       "    .dataframe thead th {\n",
       "        text-align: right;\n",
       "    }\n",
       "</style>\n",
       "<table border=\"1\" class=\"dataframe\">\n",
       "  <thead>\n",
       "    <tr style=\"text-align: right;\">\n",
       "      <th></th>\n",
       "      <th>bookID</th>\n",
       "      <th>title</th>\n",
       "      <th>authors</th>\n",
       "    </tr>\n",
       "  </thead>\n",
       "  <tbody>\n",
       "    <tr>\n",
       "      <th>3348</th>\n",
       "      <td>12224</td>\n",
       "      <td>Streetcar Suburbs: The Process of Growth in Bo...</td>\n",
       "      <td>Sam Bass Warner Jr./Sam B. Warner</td>\n",
       "    </tr>\n",
       "    <tr>\n",
       "      <th>4702</th>\n",
       "      <td>16914</td>\n",
       "      <td>The Tolkien Fan's Medieval Reader</td>\n",
       "      <td>David E. Smith (Turgon of TheOneRing.net one o...</td>\n",
       "    </tr>\n",
       "    <tr>\n",
       "      <th>5877</th>\n",
       "      <td>22128</td>\n",
       "      <td>Patriots (The Coming Collapse)</td>\n",
       "      <td>James Wesley Rawles</td>\n",
       "    </tr>\n",
       "    <tr>\n",
       "      <th>8979</th>\n",
       "      <td>34889</td>\n",
       "      <td>Brown's Star Atlas: Showing All The Bright Sta...</td>\n",
       "      <td>Brown Son &amp; Ferguson</td>\n",
       "    </tr>\n",
       "  </tbody>\n",
       "</table>\n",
       "</div>"
      ],
      "text/plain": [
       "      bookID                                              title  \\\n",
       "3348   12224  Streetcar Suburbs: The Process of Growth in Bo...   \n",
       "4702   16914                  The Tolkien Fan's Medieval Reader   \n",
       "5877   22128                     Patriots (The Coming Collapse)   \n",
       "8979   34889  Brown's Star Atlas: Showing All The Bright Sta...   \n",
       "\n",
       "                                                authors  \n",
       "3348                  Sam Bass Warner Jr./Sam B. Warner  \n",
       "4702  David E. Smith (Turgon of TheOneRing.net one o...  \n",
       "5877                                James Wesley Rawles  \n",
       "8979                               Brown Son & Ferguson  "
      ]
     },
     "execution_count": 11,
     "metadata": {},
     "output_type": "execute_result"
    }
   ],
   "source": [
    "left"
   ]
  },
  {
   "cell_type": "markdown",
   "id": "4f74e3e3",
   "metadata": {},
   "source": [
    "#### The Right side"
   ]
  },
  {
   "cell_type": "code",
   "execution_count": 12,
   "id": "bdfe326e",
   "metadata": {},
   "outputs": [
    {
     "data": {
      "text/html": [
       "<div>\n",
       "<style scoped>\n",
       "    .dataframe tbody tr th:only-of-type {\n",
       "        vertical-align: middle;\n",
       "    }\n",
       "\n",
       "    .dataframe tbody tr th {\n",
       "        vertical-align: top;\n",
       "    }\n",
       "\n",
       "    .dataframe thead th {\n",
       "        text-align: right;\n",
       "    }\n",
       "</style>\n",
       "<table border=\"1\" class=\"dataframe\">\n",
       "  <thead>\n",
       "    <tr style=\"text-align: right;\">\n",
       "      <th></th>\n",
       "      <th>average_rating</th>\n",
       "      <th>isbn</th>\n",
       "      <th>isbn13</th>\n",
       "      <th>language_code</th>\n",
       "      <th>num_pages</th>\n",
       "      <th>ratings_count</th>\n",
       "      <th>text_reviews_count</th>\n",
       "      <th>publication_date</th>\n",
       "      <th>publisher</th>\n",
       "      <th>coauthor</th>\n",
       "    </tr>\n",
       "  </thead>\n",
       "  <tbody>\n",
       "    <tr>\n",
       "      <th>3348</th>\n",
       "      <td>3.58</td>\n",
       "      <td>0674842111</td>\n",
       "      <td>9780674842113</td>\n",
       "      <td>en-US</td>\n",
       "      <td>236</td>\n",
       "      <td>61</td>\n",
       "      <td>6</td>\n",
       "      <td>4/20/2004</td>\n",
       "      <td>Harvard University Press</td>\n",
       "      <td>None</td>\n",
       "    </tr>\n",
       "    <tr>\n",
       "      <th>4702</th>\n",
       "      <td>3.58</td>\n",
       "      <td>1593600119</td>\n",
       "      <td>9781593600112</td>\n",
       "      <td>eng</td>\n",
       "      <td>400</td>\n",
       "      <td>26</td>\n",
       "      <td>4</td>\n",
       "      <td>4/6/2004</td>\n",
       "      <td>Cold Spring Press\\t</td>\n",
       "      <td>None</td>\n",
       "    </tr>\n",
       "    <tr>\n",
       "      <th>5877</th>\n",
       "      <td>3.63</td>\n",
       "      <td>156384155X</td>\n",
       "      <td>9781563841552</td>\n",
       "      <td>eng</td>\n",
       "      <td>342</td>\n",
       "      <td>38</td>\n",
       "      <td>4</td>\n",
       "      <td>1/15/1999</td>\n",
       "      <td>Huntington House Publishers</td>\n",
       "      <td>None</td>\n",
       "    </tr>\n",
       "    <tr>\n",
       "      <th>8979</th>\n",
       "      <td>0.00</td>\n",
       "      <td>0851742718</td>\n",
       "      <td>9780851742717</td>\n",
       "      <td>eng</td>\n",
       "      <td>49</td>\n",
       "      <td>0</td>\n",
       "      <td>0</td>\n",
       "      <td>5/1/1977</td>\n",
       "      <td>Brown Son &amp; Ferguson Ltd.</td>\n",
       "      <td>None</td>\n",
       "    </tr>\n",
       "  </tbody>\n",
       "</table>\n",
       "</div>"
      ],
      "text/plain": [
       "     average_rating        isbn         isbn13 language_code  num_pages  \\\n",
       "3348           3.58  0674842111  9780674842113         en-US        236   \n",
       "4702           3.58  1593600119  9781593600112           eng        400   \n",
       "5877           3.63  156384155X  9781563841552           eng        342   \n",
       "8979           0.00  0851742718  9780851742717           eng         49   \n",
       "\n",
       "      ratings_count text_reviews_count publication_date  \\\n",
       "3348             61                  6        4/20/2004   \n",
       "4702             26                  4         4/6/2004   \n",
       "5877             38                  4        1/15/1999   \n",
       "8979              0                  0         5/1/1977   \n",
       "\n",
       "                        publisher coauthor  \n",
       "3348     Harvard University Press     None  \n",
       "4702          Cold Spring Press\\t     None  \n",
       "5877  Huntington House Publishers     None  \n",
       "8979    Brown Son & Ferguson Ltd.     None  "
      ]
     },
     "execution_count": 12,
     "metadata": {},
     "output_type": "execute_result"
    }
   ],
   "source": [
    "right"
   ]
  },
  {
   "cell_type": "markdown",
   "id": "9a752640",
   "metadata": {},
   "source": [
    "####  We will combine them. and call it clean. "
   ]
  },
  {
   "cell_type": "code",
   "execution_count": 13,
   "id": "dbc0c7cf",
   "metadata": {},
   "outputs": [],
   "source": [
    "clean = pd.concat([left,  right, coauthor], axis=1)"
   ]
  },
  {
   "cell_type": "code",
   "execution_count": 14,
   "id": "9df409d4",
   "metadata": {},
   "outputs": [],
   "source": [
    "clean = clean.drop(columns= ['coauthor'])"
   ]
  },
  {
   "cell_type": "code",
   "execution_count": 15,
   "id": "5565c7f4",
   "metadata": {},
   "outputs": [
    {
     "data": {
      "text/html": [
       "<div>\n",
       "<style scoped>\n",
       "    .dataframe tbody tr th:only-of-type {\n",
       "        vertical-align: middle;\n",
       "    }\n",
       "\n",
       "    .dataframe tbody tr th {\n",
       "        vertical-align: top;\n",
       "    }\n",
       "\n",
       "    .dataframe thead th {\n",
       "        text-align: right;\n",
       "    }\n",
       "</style>\n",
       "<table border=\"1\" class=\"dataframe\">\n",
       "  <thead>\n",
       "    <tr style=\"text-align: right;\">\n",
       "      <th></th>\n",
       "      <th>bookID</th>\n",
       "      <th>title</th>\n",
       "      <th>authors</th>\n",
       "      <th>average_rating</th>\n",
       "      <th>isbn</th>\n",
       "      <th>isbn13</th>\n",
       "      <th>language_code</th>\n",
       "      <th>num_pages</th>\n",
       "      <th>ratings_count</th>\n",
       "      <th>text_reviews_count</th>\n",
       "      <th>publication_date</th>\n",
       "      <th>publisher</th>\n",
       "      <th>author2</th>\n",
       "    </tr>\n",
       "  </thead>\n",
       "  <tbody>\n",
       "    <tr>\n",
       "      <th>3348</th>\n",
       "      <td>12224</td>\n",
       "      <td>Streetcar Suburbs: The Process of Growth in Bo...</td>\n",
       "      <td>Sam Bass Warner Jr./Sam B. Warner</td>\n",
       "      <td>3.58</td>\n",
       "      <td>0674842111</td>\n",
       "      <td>9780674842113</td>\n",
       "      <td>en-US</td>\n",
       "      <td>236</td>\n",
       "      <td>61</td>\n",
       "      <td>6</td>\n",
       "      <td>4/20/2004</td>\n",
       "      <td>Harvard University Press</td>\n",
       "      <td>Jr./Sam B. Warner</td>\n",
       "    </tr>\n",
       "    <tr>\n",
       "      <th>4702</th>\n",
       "      <td>16914</td>\n",
       "      <td>The Tolkien Fan's Medieval Reader</td>\n",
       "      <td>David E. Smith (Turgon of TheOneRing.net one o...</td>\n",
       "      <td>3.58</td>\n",
       "      <td>1593600119</td>\n",
       "      <td>9781593600112</td>\n",
       "      <td>eng</td>\n",
       "      <td>400</td>\n",
       "      <td>26</td>\n",
       "      <td>4</td>\n",
       "      <td>4/6/2004</td>\n",
       "      <td>Cold Spring Press\\t</td>\n",
       "      <td>one of the founding members of this Tolkien w...</td>\n",
       "    </tr>\n",
       "    <tr>\n",
       "      <th>5877</th>\n",
       "      <td>22128</td>\n",
       "      <td>Patriots (The Coming Collapse)</td>\n",
       "      <td>James Wesley Rawles</td>\n",
       "      <td>3.63</td>\n",
       "      <td>156384155X</td>\n",
       "      <td>9781563841552</td>\n",
       "      <td>eng</td>\n",
       "      <td>342</td>\n",
       "      <td>38</td>\n",
       "      <td>4</td>\n",
       "      <td>1/15/1999</td>\n",
       "      <td>Huntington House Publishers</td>\n",
       "      <td>Rawles</td>\n",
       "    </tr>\n",
       "    <tr>\n",
       "      <th>8979</th>\n",
       "      <td>34889</td>\n",
       "      <td>Brown's Star Atlas: Showing All The Bright Sta...</td>\n",
       "      <td>Brown Son &amp; Ferguson</td>\n",
       "      <td>0.00</td>\n",
       "      <td>0851742718</td>\n",
       "      <td>9780851742717</td>\n",
       "      <td>eng</td>\n",
       "      <td>49</td>\n",
       "      <td>0</td>\n",
       "      <td>0</td>\n",
       "      <td>5/1/1977</td>\n",
       "      <td>Brown Son &amp; Ferguson Ltd.</td>\n",
       "      <td>Son &amp; Ferguson</td>\n",
       "    </tr>\n",
       "  </tbody>\n",
       "</table>\n",
       "</div>"
      ],
      "text/plain": [
       "      bookID                                              title  \\\n",
       "3348   12224  Streetcar Suburbs: The Process of Growth in Bo...   \n",
       "4702   16914                  The Tolkien Fan's Medieval Reader   \n",
       "5877   22128                     Patriots (The Coming Collapse)   \n",
       "8979   34889  Brown's Star Atlas: Showing All The Bright Sta...   \n",
       "\n",
       "                                                authors average_rating  \\\n",
       "3348                  Sam Bass Warner Jr./Sam B. Warner           3.58   \n",
       "4702  David E. Smith (Turgon of TheOneRing.net one o...           3.58   \n",
       "5877                                James Wesley Rawles           3.63   \n",
       "8979                               Brown Son & Ferguson           0.00   \n",
       "\n",
       "            isbn         isbn13 language_code  num_pages  ratings_count  \\\n",
       "3348  0674842111  9780674842113         en-US        236             61   \n",
       "4702  1593600119  9781593600112           eng        400             26   \n",
       "5877  156384155X  9781563841552           eng        342             38   \n",
       "8979  0851742718  9780851742717           eng         49              0   \n",
       "\n",
       "     text_reviews_count publication_date                    publisher  \\\n",
       "3348                  6        4/20/2004     Harvard University Press   \n",
       "4702                  4         4/6/2004          Cold Spring Press\\t   \n",
       "5877                  4        1/15/1999  Huntington House Publishers   \n",
       "8979                  0         5/1/1977    Brown Son & Ferguson Ltd.   \n",
       "\n",
       "                                                author2  \n",
       "3348                                  Jr./Sam B. Warner  \n",
       "4702   one of the founding members of this Tolkien w...  \n",
       "5877                                             Rawles  \n",
       "8979                                     Son & Ferguson  "
      ]
     },
     "execution_count": 15,
     "metadata": {},
     "output_type": "execute_result"
    }
   ],
   "source": [
    "clean"
   ]
  },
  {
   "cell_type": "markdown",
   "id": "afd3df1b",
   "metadata": {},
   "source": [
    "#### We will replace the dirty rows with this newly created clean data frame. "
   ]
  },
  {
   "cell_type": "code",
   "execution_count": 16,
   "id": "be488f69",
   "metadata": {},
   "outputs": [],
   "source": [
    "df.loc[clean.index, :] = clean"
   ]
  },
  {
   "cell_type": "markdown",
   "id": "4c427cdc",
   "metadata": {},
   "source": [
    "### Step 3 We will remove 'coauthor', 'bookID', 'isbn', 'isbn13' columns as they do not make any sense wrt to rating prediction. "
   ]
  },
  {
   "cell_type": "code",
   "execution_count": 17,
   "id": "579b8056",
   "metadata": {},
   "outputs": [],
   "source": [
    "df = df.drop(columns= ['coauthor', 'bookID', 'isbn', 'isbn13'])"
   ]
  },
  {
   "cell_type": "code",
   "execution_count": 18,
   "id": "1ecc897a",
   "metadata": {},
   "outputs": [
    {
     "name": "stdout",
     "output_type": "stream",
     "text": [
      "<class 'pandas.core.frame.DataFrame'>\n",
      "RangeIndex: 11127 entries, 0 to 11126\n",
      "Data columns (total 9 columns):\n",
      " #   Column              Non-Null Count  Dtype \n",
      "---  ------              --------------  ----- \n",
      " 0   title               11127 non-null  object\n",
      " 1   authors             11127 non-null  object\n",
      " 2   average_rating      11127 non-null  object\n",
      " 3   language_code       11127 non-null  object\n",
      " 4   num_pages           11127 non-null  object\n",
      " 5   ratings_count       11127 non-null  int64 \n",
      " 6   text_reviews_count  11127 non-null  object\n",
      " 7   publication_date    11127 non-null  object\n",
      " 8   publisher           11127 non-null  object\n",
      "dtypes: int64(1), object(8)\n",
      "memory usage: 782.5+ KB\n"
     ]
    }
   ],
   "source": [
    "df.info()"
   ]
  },
  {
   "cell_type": "markdown",
   "id": "ba311e58",
   "metadata": {},
   "source": [
    "### Step 4 We will also convert the numeric columns to int/ float values. "
   ]
  },
  {
   "cell_type": "code",
   "execution_count": 19,
   "id": "64be3cea",
   "metadata": {},
   "outputs": [],
   "source": [
    "df['average_rating'] = df['average_rating'].astype(np.float32)\n",
    "df['num_pages'] = df['num_pages'].astype(np.int32)\n",
    "df['ratings_count'] = df['ratings_count'].astype(np.int32)\n",
    "df['text_reviews_count'] = df['text_reviews_count'].astype(np.int32)"
   ]
  },
  {
   "cell_type": "code",
   "execution_count": 20,
   "id": "59f7790f",
   "metadata": {},
   "outputs": [
    {
     "name": "stdout",
     "output_type": "stream",
     "text": [
      "<class 'pandas.core.frame.DataFrame'>\n",
      "RangeIndex: 11127 entries, 0 to 11126\n",
      "Data columns (total 9 columns):\n",
      " #   Column              Non-Null Count  Dtype  \n",
      "---  ------              --------------  -----  \n",
      " 0   title               11127 non-null  object \n",
      " 1   authors             11127 non-null  object \n",
      " 2   average_rating      11127 non-null  float32\n",
      " 3   language_code       11127 non-null  object \n",
      " 4   num_pages           11127 non-null  int32  \n",
      " 5   ratings_count       11127 non-null  int32  \n",
      " 6   text_reviews_count  11127 non-null  int32  \n",
      " 7   publication_date    11127 non-null  object \n",
      " 8   publisher           11127 non-null  object \n",
      "dtypes: float32(1), int32(3), object(5)\n",
      "memory usage: 608.6+ KB\n"
     ]
    }
   ],
   "source": [
    "df.info()"
   ]
  },
  {
   "cell_type": "markdown",
   "id": "2b5cf5f7",
   "metadata": {},
   "source": [
    "#### Let's just check our plan worked or not! "
   ]
  },
  {
   "cell_type": "code",
   "execution_count": 21,
   "id": "b7d37ca6",
   "metadata": {},
   "outputs": [
    {
     "data": {
      "text/plain": [
       "title                 Streetcar Suburbs: The Process of Growth in Bo...\n",
       "authors                               Sam Bass Warner Jr./Sam B. Warner\n",
       "average_rating                                                     3.58\n",
       "language_code                                                     en-US\n",
       "num_pages                                                           236\n",
       "ratings_count                                                        61\n",
       "text_reviews_count                                                    6\n",
       "publication_date                                              4/20/2004\n",
       "publisher                                      Harvard University Press\n",
       "Name: 3348, dtype: object"
      ]
     },
     "execution_count": 21,
     "metadata": {},
     "output_type": "execute_result"
    }
   ],
   "source": [
    "df.iloc[3348, :]"
   ]
  },
  {
   "cell_type": "markdown",
   "id": "52e13783",
   "metadata": {},
   "source": [
    "### Step 4 It did Now let's convert dates "
   ]
  },
  {
   "cell_type": "code",
   "execution_count": 22,
   "id": "62959846",
   "metadata": {},
   "outputs": [],
   "source": [
    "dates = pd.to_datetime(df.publication_date, format=\"%m/%d/%Y\", errors=\"coerce\")"
   ]
  },
  {
   "cell_type": "code",
   "execution_count": 23,
   "id": "9c747299",
   "metadata": {},
   "outputs": [
    {
     "data": {
      "text/plain": [
       "8180    NaT\n",
       "11098   NaT\n",
       "Name: publication_date, dtype: datetime64[ns]"
      ]
     },
     "execution_count": 23,
     "metadata": {},
     "output_type": "execute_result"
    }
   ],
   "source": [
    "dates[dates.isnull()]"
   ]
  },
  {
   "cell_type": "markdown",
   "id": "95a4f021",
   "metadata": {},
   "source": [
    "#### These two rows contain dirty values for dates. "
   ]
  },
  {
   "cell_type": "code",
   "execution_count": 24,
   "id": "16ec06ae",
   "metadata": {},
   "outputs": [
    {
     "data": {
      "text/plain": [
       "'11/31/2000'"
      ]
     },
     "execution_count": 24,
     "metadata": {},
     "output_type": "execute_result"
    }
   ],
   "source": [
    "df.publication_date[8180]"
   ]
  },
  {
   "cell_type": "code",
   "execution_count": 25,
   "id": "589bdbea",
   "metadata": {},
   "outputs": [
    {
     "data": {
      "text/plain": [
       "'6/31/1982'"
      ]
     },
     "execution_count": 25,
     "metadata": {},
     "output_type": "execute_result"
    }
   ],
   "source": [
    "df.publication_date[11098]"
   ]
  },
  {
   "cell_type": "markdown",
   "id": "781ef424",
   "metadata": {},
   "source": [
    "#### Let us correct it. And parse again. "
   ]
  },
  {
   "cell_type": "code",
   "execution_count": 26,
   "id": "a71227fb",
   "metadata": {},
   "outputs": [],
   "source": [
    "df.iloc[8180, 7] = '11/30/2000' \n",
    "df.iloc[11098, 7] = '6/30/1982'\n",
    "\n",
    "df.publication_date = pd.to_datetime(df.publication_date, format=\"%m/%d/%Y\", errors=\"raise\")"
   ]
  },
  {
   "cell_type": "code",
   "execution_count": 27,
   "id": "f27e4df9",
   "metadata": {},
   "outputs": [
    {
     "name": "stdout",
     "output_type": "stream",
     "text": [
      "<class 'pandas.core.frame.DataFrame'>\n",
      "RangeIndex: 11127 entries, 0 to 11126\n",
      "Data columns (total 9 columns):\n",
      " #   Column              Non-Null Count  Dtype         \n",
      "---  ------              --------------  -----         \n",
      " 0   title               11127 non-null  object        \n",
      " 1   authors             11127 non-null  object        \n",
      " 2   average_rating      11127 non-null  float32       \n",
      " 3   language_code       11127 non-null  object        \n",
      " 4   num_pages           11127 non-null  int32         \n",
      " 5   ratings_count       11127 non-null  int32         \n",
      " 6   text_reviews_count  11127 non-null  int32         \n",
      " 7   publication_date    11127 non-null  datetime64[ns]\n",
      " 8   publisher           11127 non-null  object        \n",
      "dtypes: datetime64[ns](1), float32(1), int32(3), object(4)\n",
      "memory usage: 608.6+ KB\n"
     ]
    }
   ],
   "source": [
    "df.info()"
   ]
  },
  {
   "cell_type": "markdown",
   "id": "caddff35",
   "metadata": {},
   "source": [
    "#### Now we wil subtract datetime object with 01/01/1970 to obtain an integer. "
   ]
  },
  {
   "cell_type": "code",
   "execution_count": 28,
   "id": "66e15151",
   "metadata": {},
   "outputs": [],
   "source": [
    "df.publication_date = (df.publication_date - pd.to_datetime('1970-01-01', format='%Y-%m-%d')).dt.days"
   ]
  },
  {
   "cell_type": "markdown",
   "id": "fb952221",
   "metadata": {},
   "source": [
    "### Step5 Now Let's  separate out all the co authors. Co authors are separted by a /. "
   ]
  },
  {
   "cell_type": "code",
   "execution_count": 29,
   "id": "e437cfce",
   "metadata": {},
   "outputs": [],
   "source": [
    "author_name=[]\n",
    "for i in range(1, df[\"authors\"].str.split(\"/\", expand=True).shape[1] +1):\n",
    "    author_name.append(f\"Author_{i}\") \n",
    "    "
   ]
  },
  {
   "cell_type": "code",
   "execution_count": 30,
   "id": "245dcd79",
   "metadata": {},
   "outputs": [],
   "source": [
    "splitted = df[\"authors\"].str.split(\"/\", expand=True)"
   ]
  },
  {
   "cell_type": "code",
   "execution_count": 31,
   "id": "07abbcd1",
   "metadata": {},
   "outputs": [],
   "source": [
    "splitted.columns = author_name"
   ]
  },
  {
   "cell_type": "code",
   "execution_count": 32,
   "id": "799cc53c",
   "metadata": {},
   "outputs": [],
   "source": [
    "df  = pd.concat((df, splitted), axis=1)"
   ]
  },
  {
   "cell_type": "code",
   "execution_count": 33,
   "id": "ecc54774",
   "metadata": {},
   "outputs": [],
   "source": [
    " df = df.drop(columns= ['authors'])"
   ]
  },
  {
   "cell_type": "code",
   "execution_count": 34,
   "id": "b0a8f4a1",
   "metadata": {},
   "outputs": [
    {
     "data": {
      "text/html": [
       "<div>\n",
       "<style scoped>\n",
       "    .dataframe tbody tr th:only-of-type {\n",
       "        vertical-align: middle;\n",
       "    }\n",
       "\n",
       "    .dataframe tbody tr th {\n",
       "        vertical-align: top;\n",
       "    }\n",
       "\n",
       "    .dataframe thead th {\n",
       "        text-align: right;\n",
       "    }\n",
       "</style>\n",
       "<table border=\"1\" class=\"dataframe\">\n",
       "  <thead>\n",
       "    <tr style=\"text-align: right;\">\n",
       "      <th></th>\n",
       "      <th>title</th>\n",
       "      <th>average_rating</th>\n",
       "      <th>language_code</th>\n",
       "      <th>num_pages</th>\n",
       "      <th>ratings_count</th>\n",
       "      <th>text_reviews_count</th>\n",
       "      <th>publication_date</th>\n",
       "      <th>publisher</th>\n",
       "      <th>Author_1</th>\n",
       "      <th>Author_2</th>\n",
       "      <th>...</th>\n",
       "      <th>Author_42</th>\n",
       "      <th>Author_43</th>\n",
       "      <th>Author_44</th>\n",
       "      <th>Author_45</th>\n",
       "      <th>Author_46</th>\n",
       "      <th>Author_47</th>\n",
       "      <th>Author_48</th>\n",
       "      <th>Author_49</th>\n",
       "      <th>Author_50</th>\n",
       "      <th>Author_51</th>\n",
       "    </tr>\n",
       "  </thead>\n",
       "  <tbody>\n",
       "    <tr>\n",
       "      <th>0</th>\n",
       "      <td>Harry Potter and the Half-Blood Prince (Harry ...</td>\n",
       "      <td>4.57</td>\n",
       "      <td>eng</td>\n",
       "      <td>652</td>\n",
       "      <td>2095690</td>\n",
       "      <td>27591</td>\n",
       "      <td>13407</td>\n",
       "      <td>Scholastic Inc.</td>\n",
       "      <td>J.K. Rowling</td>\n",
       "      <td>Mary GrandPré</td>\n",
       "      <td>...</td>\n",
       "      <td>None</td>\n",
       "      <td>None</td>\n",
       "      <td>None</td>\n",
       "      <td>None</td>\n",
       "      <td>None</td>\n",
       "      <td>None</td>\n",
       "      <td>None</td>\n",
       "      <td>None</td>\n",
       "      <td>None</td>\n",
       "      <td>None</td>\n",
       "    </tr>\n",
       "    <tr>\n",
       "      <th>1</th>\n",
       "      <td>Harry Potter and the Order of the Phoenix (Har...</td>\n",
       "      <td>4.49</td>\n",
       "      <td>eng</td>\n",
       "      <td>870</td>\n",
       "      <td>2153167</td>\n",
       "      <td>29221</td>\n",
       "      <td>12662</td>\n",
       "      <td>Scholastic Inc.</td>\n",
       "      <td>J.K. Rowling</td>\n",
       "      <td>Mary GrandPré</td>\n",
       "      <td>...</td>\n",
       "      <td>None</td>\n",
       "      <td>None</td>\n",
       "      <td>None</td>\n",
       "      <td>None</td>\n",
       "      <td>None</td>\n",
       "      <td>None</td>\n",
       "      <td>None</td>\n",
       "      <td>None</td>\n",
       "      <td>None</td>\n",
       "      <td>None</td>\n",
       "    </tr>\n",
       "  </tbody>\n",
       "</table>\n",
       "<p>2 rows × 59 columns</p>\n",
       "</div>"
      ],
      "text/plain": [
       "                                               title  average_rating  \\\n",
       "0  Harry Potter and the Half-Blood Prince (Harry ...            4.57   \n",
       "1  Harry Potter and the Order of the Phoenix (Har...            4.49   \n",
       "\n",
       "  language_code  num_pages  ratings_count  text_reviews_count  \\\n",
       "0           eng        652        2095690               27591   \n",
       "1           eng        870        2153167               29221   \n",
       "\n",
       "   publication_date        publisher      Author_1       Author_2  ...  \\\n",
       "0             13407  Scholastic Inc.  J.K. Rowling  Mary GrandPré  ...   \n",
       "1             12662  Scholastic Inc.  J.K. Rowling  Mary GrandPré  ...   \n",
       "\n",
       "  Author_42 Author_43 Author_44 Author_45 Author_46 Author_47 Author_48  \\\n",
       "0      None      None      None      None      None      None      None   \n",
       "1      None      None      None      None      None      None      None   \n",
       "\n",
       "  Author_49 Author_50 Author_51  \n",
       "0      None      None      None  \n",
       "1      None      None      None  \n",
       "\n",
       "[2 rows x 59 columns]"
      ]
     },
     "execution_count": 34,
     "metadata": {},
     "output_type": "execute_result"
    }
   ],
   "source": [
    "df.head(2)"
   ]
  },
  {
   "cell_type": "code",
   "execution_count": 35,
   "id": "414c2996",
   "metadata": {},
   "outputs": [
    {
     "name": "stdout",
     "output_type": "stream",
     "text": [
      "<class 'pandas.core.frame.DataFrame'>\n",
      "RangeIndex: 11127 entries, 0 to 11126\n",
      "Data columns (total 59 columns):\n",
      " #   Column              Non-Null Count  Dtype  \n",
      "---  ------              --------------  -----  \n",
      " 0   title               11127 non-null  object \n",
      " 1   average_rating      11127 non-null  float32\n",
      " 2   language_code       11127 non-null  object \n",
      " 3   num_pages           11127 non-null  int32  \n",
      " 4   ratings_count       11127 non-null  int32  \n",
      " 5   text_reviews_count  11127 non-null  int32  \n",
      " 6   publication_date    11127 non-null  int64  \n",
      " 7   publisher           11127 non-null  object \n",
      " 8   Author_1            11127 non-null  object \n",
      " 9   Author_2            4564 non-null   object \n",
      " 10  Author_3            1485 non-null   object \n",
      " 11  Author_4            479 non-null    object \n",
      " 12  Author_5            257 non-null    object \n",
      " 13  Author_6            192 non-null    object \n",
      " 14  Author_7            138 non-null    object \n",
      " 15  Author_8            117 non-null    object \n",
      " 16  Author_9            106 non-null    object \n",
      " 17  Author_10           96 non-null     object \n",
      " 18  Author_11           84 non-null     object \n",
      " 19  Author_12           75 non-null     object \n",
      " 20  Author_13           70 non-null     object \n",
      " 21  Author_14           62 non-null     object \n",
      " 22  Author_15           61 non-null     object \n",
      " 23  Author_16           50 non-null     object \n",
      " 24  Author_17           44 non-null     object \n",
      " 25  Author_18           38 non-null     object \n",
      " 26  Author_19           30 non-null     object \n",
      " 27  Author_20           26 non-null     object \n",
      " 28  Author_21           23 non-null     object \n",
      " 29  Author_22           15 non-null     object \n",
      " 30  Author_23           14 non-null     object \n",
      " 31  Author_24           12 non-null     object \n",
      " 32  Author_25           9 non-null      object \n",
      " 33  Author_26           8 non-null      object \n",
      " 34  Author_27           7 non-null      object \n",
      " 35  Author_28           6 non-null      object \n",
      " 36  Author_29           5 non-null      object \n",
      " 37  Author_30           5 non-null      object \n",
      " 38  Author_31           5 non-null      object \n",
      " 39  Author_32           5 non-null      object \n",
      " 40  Author_33           4 non-null      object \n",
      " 41  Author_34           3 non-null      object \n",
      " 42  Author_35           3 non-null      object \n",
      " 43  Author_36           2 non-null      object \n",
      " 44  Author_37           2 non-null      object \n",
      " 45  Author_38           2 non-null      object \n",
      " 46  Author_39           1 non-null      object \n",
      " 47  Author_40           1 non-null      object \n",
      " 48  Author_41           1 non-null      object \n",
      " 49  Author_42           1 non-null      object \n",
      " 50  Author_43           1 non-null      object \n",
      " 51  Author_44           1 non-null      object \n",
      " 52  Author_45           1 non-null      object \n",
      " 53  Author_46           1 non-null      object \n",
      " 54  Author_47           1 non-null      object \n",
      " 55  Author_48           1 non-null      object \n",
      " 56  Author_49           1 non-null      object \n",
      " 57  Author_50           1 non-null      object \n",
      " 58  Author_51           1 non-null      object \n",
      "dtypes: float32(1), int32(3), int64(1), object(54)\n",
      "memory usage: 4.8+ MB\n"
     ]
    }
   ],
   "source": [
    "df.info()"
   ]
  },
  {
   "cell_type": "code",
   "execution_count": 36,
   "id": "7a181b69",
   "metadata": {},
   "outputs": [
    {
     "data": {
      "text/plain": [
       "Index(['title', 'average_rating', 'language_code', 'num_pages',\n",
       "       'ratings_count', 'text_reviews_count', 'publication_date', 'publisher',\n",
       "       'Author_1', 'Author_2', 'Author_3', 'Author_4', 'Author_5', 'Author_6',\n",
       "       'Author_7', 'Author_8', 'Author_9', 'Author_10', 'Author_11',\n",
       "       'Author_12', 'Author_13', 'Author_14', 'Author_15', 'Author_16',\n",
       "       'Author_17', 'Author_18', 'Author_19', 'Author_20', 'Author_21',\n",
       "       'Author_22', 'Author_23', 'Author_24', 'Author_25', 'Author_26',\n",
       "       'Author_27', 'Author_28', 'Author_29', 'Author_30', 'Author_31',\n",
       "       'Author_32', 'Author_33', 'Author_34', 'Author_35', 'Author_36',\n",
       "       'Author_37', 'Author_38', 'Author_39', 'Author_40', 'Author_41',\n",
       "       'Author_42', 'Author_43', 'Author_44', 'Author_45', 'Author_46',\n",
       "       'Author_47', 'Author_48', 'Author_49', 'Author_50', 'Author_51'],\n",
       "      dtype='object')"
      ]
     },
     "execution_count": 36,
     "metadata": {},
     "output_type": "execute_result"
    }
   ],
   "source": [
    "df.columns"
   ]
  },
  {
   "cell_type": "markdown",
   "id": "601b7e8a",
   "metadata": {},
   "source": [
    "###  Step6 Lets calculate top 5 authors with highest rating"
   ]
  },
  {
   "cell_type": "code",
   "execution_count": 37,
   "id": "19d1405e",
   "metadata": {},
   "outputs": [
    {
     "data": {
      "text/html": [
       "<div>\n",
       "<style scoped>\n",
       "    .dataframe tbody tr th:only-of-type {\n",
       "        vertical-align: middle;\n",
       "    }\n",
       "\n",
       "    .dataframe tbody tr th {\n",
       "        vertical-align: top;\n",
       "    }\n",
       "\n",
       "    .dataframe thead th {\n",
       "        text-align: right;\n",
       "    }\n",
       "</style>\n",
       "<table border=\"1\" class=\"dataframe\">\n",
       "  <thead>\n",
       "    <tr style=\"text-align: right;\">\n",
       "      <th></th>\n",
       "      <th>title</th>\n",
       "      <th>average_rating</th>\n",
       "      <th>language_code</th>\n",
       "      <th>num_pages</th>\n",
       "      <th>ratings_count</th>\n",
       "      <th>text_reviews_count</th>\n",
       "      <th>publication_date</th>\n",
       "      <th>publisher</th>\n",
       "      <th>Author_1</th>\n",
       "      <th>Author_2</th>\n",
       "      <th>...</th>\n",
       "      <th>Author_42</th>\n",
       "      <th>Author_43</th>\n",
       "      <th>Author_44</th>\n",
       "      <th>Author_45</th>\n",
       "      <th>Author_46</th>\n",
       "      <th>Author_47</th>\n",
       "      <th>Author_48</th>\n",
       "      <th>Author_49</th>\n",
       "      <th>Author_50</th>\n",
       "      <th>Author_51</th>\n",
       "    </tr>\n",
       "  </thead>\n",
       "  <tbody>\n",
       "    <tr>\n",
       "      <th>5650</th>\n",
       "      <td>Colossians and Philemon: A Critical and Exeget...</td>\n",
       "      <td>5.0</td>\n",
       "      <td>eng</td>\n",
       "      <td>512</td>\n",
       "      <td>1</td>\n",
       "      <td>0</td>\n",
       "      <td>13124</td>\n",
       "      <td>T&amp;T Clark Int'l</td>\n",
       "      <td>R. McL. Wilson</td>\n",
       "      <td>None</td>\n",
       "      <td>...</td>\n",
       "      <td>None</td>\n",
       "      <td>None</td>\n",
       "      <td>None</td>\n",
       "      <td>None</td>\n",
       "      <td>None</td>\n",
       "      <td>None</td>\n",
       "      <td>None</td>\n",
       "      <td>None</td>\n",
       "      <td>None</td>\n",
       "      <td>None</td>\n",
       "    </tr>\n",
       "    <tr>\n",
       "      <th>1243</th>\n",
       "      <td>Middlesex Borough (Images of America: New Jersey)</td>\n",
       "      <td>5.0</td>\n",
       "      <td>eng</td>\n",
       "      <td>128</td>\n",
       "      <td>2</td>\n",
       "      <td>0</td>\n",
       "      <td>12128</td>\n",
       "      <td>Arcadia Publishing</td>\n",
       "      <td>Middlesex Borough Heritage Committee</td>\n",
       "      <td>None</td>\n",
       "      <td>...</td>\n",
       "      <td>None</td>\n",
       "      <td>None</td>\n",
       "      <td>None</td>\n",
       "      <td>None</td>\n",
       "      <td>None</td>\n",
       "      <td>None</td>\n",
       "      <td>None</td>\n",
       "      <td>None</td>\n",
       "      <td>None</td>\n",
       "      <td>None</td>\n",
       "    </tr>\n",
       "  </tbody>\n",
       "</table>\n",
       "<p>2 rows × 59 columns</p>\n",
       "</div>"
      ],
      "text/plain": [
       "                                                  title  average_rating  \\\n",
       "5650  Colossians and Philemon: A Critical and Exeget...             5.0   \n",
       "1243  Middlesex Borough (Images of America: New Jersey)             5.0   \n",
       "\n",
       "     language_code  num_pages  ratings_count  text_reviews_count  \\\n",
       "5650           eng        512              1                   0   \n",
       "1243           eng        128              2                   0   \n",
       "\n",
       "      publication_date           publisher  \\\n",
       "5650             13124     T&T Clark Int'l   \n",
       "1243             12128  Arcadia Publishing   \n",
       "\n",
       "                                  Author_1 Author_2  ... Author_42 Author_43  \\\n",
       "5650                        R. McL. Wilson     None  ...      None      None   \n",
       "1243  Middlesex Borough Heritage Committee     None  ...      None      None   \n",
       "\n",
       "     Author_44 Author_45 Author_46 Author_47 Author_48 Author_49 Author_50  \\\n",
       "5650      None      None      None      None      None      None      None   \n",
       "1243      None      None      None      None      None      None      None   \n",
       "\n",
       "     Author_51  \n",
       "5650      None  \n",
       "1243      None  \n",
       "\n",
       "[2 rows x 59 columns]"
      ]
     },
     "execution_count": 37,
     "metadata": {},
     "output_type": "execute_result"
    }
   ],
   "source": [
    "df.sort_values('average_rating', ascending=False).head(2)"
   ]
  },
  {
   "cell_type": "markdown",
   "id": "44606ce1",
   "metadata": {},
   "source": [
    "####  We should take atleast 1000 reviews to be sure. \n"
   ]
  },
  {
   "cell_type": "code",
   "execution_count": 38,
   "id": "2e05cc3b",
   "metadata": {},
   "outputs": [],
   "source": [
    "eligible = df[df.ratings_count > 500]\n",
    "top_authors_total = eligible.sort_values('average_rating', ascending=False)\n"
   ]
  },
  {
   "cell_type": "markdown",
   "id": "57078873",
   "metadata": {},
   "source": [
    "#### Get top 20 authors and co authors from them. "
   ]
  },
  {
   "cell_type": "code",
   "execution_count": 39,
   "id": "d3ddd51e",
   "metadata": {},
   "outputs": [],
   "source": [
    "n_coauthors = 10\n",
    "top_authors = set()\n",
    "for i in range(1, n_coauthors+1):\n",
    "    top_authors = top_authors.union(set(top_authors_total.head(20)['Author_'+ str(i)]))"
   ]
  },
  {
   "cell_type": "code",
   "execution_count": 40,
   "id": "062ca399",
   "metadata": {},
   "outputs": [],
   "source": [
    "try:\n",
    "    top_authors.remove(None)\n",
    "    top_authors.remove('Anonymous')\n",
    "except KeyError:\n",
    "    pass"
   ]
  },
  {
   "cell_type": "code",
   "execution_count": 41,
   "id": "a4380af5",
   "metadata": {},
   "outputs": [],
   "source": [
    "top_authors = list(top_authors)"
   ]
  },
  {
   "cell_type": "code",
   "execution_count": 42,
   "id": "4a32d813",
   "metadata": {},
   "outputs": [
    {
     "data": {
      "text/plain": [
       "['Joe Yamazaki',\n",
       " 'Bill Watterson',\n",
       " 'Kelly Jones',\n",
       " 'Frank Darabont',\n",
       " 'Maya Angelou',\n",
       " 'Neil Gaiman',\n",
       " 'Chris Bachalo',\n",
       " 'Matt Thorn',\n",
       " 'Mike Dringenberg',\n",
       " 'Kaori Inoue',\n",
       " 'Izumi Evers',\n",
       " 'Don Rosa',\n",
       " 'J.K. Rowling',\n",
       " 'Michael Zulli',\n",
       " 'David Allen Sibley',\n",
       " 'Hayao Miyazaki',\n",
       " 'Walden Wong',\n",
       " 'Colleen Doran',\n",
       " 'Daniel Vozzo',\n",
       " 'Arthur Conan Doyle',\n",
       " 'Robert B. Leighton',\n",
       " 'Matthew L. Sands',\n",
       " 'Steve Parkhouse',\n",
       " 'Stephen King',\n",
       " 'Leslie S. Klinger',\n",
       " 'Charles Vess',\n",
       " \"Patrick O'Brian\",\n",
       " 'Mary GrandPré',\n",
       " 'Malcolm Jones III',\n",
       " 'Richard P. Feynman']"
      ]
     },
     "execution_count": 42,
     "metadata": {},
     "output_type": "execute_result"
    }
   ],
   "source": [
    "top_authors"
   ]
  },
  {
   "cell_type": "markdown",
   "id": "d9f612ed",
   "metadata": {},
   "source": [
    "###  Step6 We calculate top publishers as above"
   ]
  },
  {
   "cell_type": "code",
   "execution_count": 43,
   "id": "16d049d7",
   "metadata": {},
   "outputs": [],
   "source": [
    "top_publishers_total = eligible.sort_values('average_rating', ascending=False)"
   ]
  },
  {
   "cell_type": "code",
   "execution_count": 44,
   "id": "df118481",
   "metadata": {},
   "outputs": [],
   "source": [
    "top_publishers = list(set(top_publishers_total.head(20)['publisher']))"
   ]
  },
  {
   "cell_type": "code",
   "execution_count": 45,
   "id": "fcc43c13",
   "metadata": {},
   "outputs": [
    {
     "data": {
      "text/plain": [
       "['Zondervan Publishing House',\n",
       " 'VIZ Media',\n",
       " 'Scholastic',\n",
       " 'Alfred A. Knopf',\n",
       " 'W. W. Norton  Company',\n",
       " 'Addison Wesley Publishing Company',\n",
       " 'Modern Library',\n",
       " 'Gemstone Publishing',\n",
       " 'Andrews McMeel Publishing',\n",
       " 'W. W. Norton & Company',\n",
       " 'Vertigo',\n",
       " 'Newmarket Press']"
      ]
     },
     "execution_count": 45,
     "metadata": {},
     "output_type": "execute_result"
    }
   ],
   "source": [
    "top_publishers"
   ]
  },
  {
   "cell_type": "markdown",
   "id": "c1e7fd9b",
   "metadata": {},
   "source": [
    "### Step7 Let us construct two columns \n",
    "### 1. Whether given author belongs to a group of top 20 rated authors.\n",
    "### 2. 1. Whether given publisher belongs to a group of top 20 rated publisher.\n",
    "### Remove bogus columns as well."
   ]
  },
  {
   "cell_type": "code",
   "execution_count": 46,
   "id": "84aba010",
   "metadata": {},
   "outputs": [],
   "source": [
    "def check_top_publishers(row, publisher_list):\n",
    "    if not row in publisher_list:\n",
    "        return False\n",
    "    return True\n",
    "\n",
    "df['publisher'] = df.loc[:,['publisher']].applymap(check_top_publishers, publisher_list=top_publishers)\n",
    "\n",
    "def check_top_authors(row, authors_list):\n",
    "    if not row in authors_list:\n",
    "        return False\n",
    "    return True\n",
    "\n",
    "df[author_name] = df[author_name].applymap(check_top_authors, authors_list=top_authors)\n",
    "\n",
    "df['is_top_20_author'] = False\n",
    "df['is_top_20_publisher'] = df.publisher\n",
    "for auth in author_name:\n",
    "    df['is_top_20_author'] = df['is_top_20_author'] | df[auth]\n",
    "\n",
    "df.drop(author_name + ['publisher', 'title'], inplace=True, axis=1)"
   ]
  },
  {
   "cell_type": "markdown",
   "id": "f2eacae0",
   "metadata": {},
   "source": [
    "#### Note we have removed author name, publisher name and title from original data. "
   ]
  },
  {
   "cell_type": "code",
   "execution_count": 47,
   "id": "53035a25",
   "metadata": {},
   "outputs": [
    {
     "data": {
      "text/html": [
       "<div>\n",
       "<style scoped>\n",
       "    .dataframe tbody tr th:only-of-type {\n",
       "        vertical-align: middle;\n",
       "    }\n",
       "\n",
       "    .dataframe tbody tr th {\n",
       "        vertical-align: top;\n",
       "    }\n",
       "\n",
       "    .dataframe thead th {\n",
       "        text-align: right;\n",
       "    }\n",
       "</style>\n",
       "<table border=\"1\" class=\"dataframe\">\n",
       "  <thead>\n",
       "    <tr style=\"text-align: right;\">\n",
       "      <th></th>\n",
       "      <th>average_rating</th>\n",
       "      <th>language_code</th>\n",
       "      <th>num_pages</th>\n",
       "      <th>ratings_count</th>\n",
       "      <th>text_reviews_count</th>\n",
       "      <th>publication_date</th>\n",
       "      <th>is_top_20_author</th>\n",
       "      <th>is_top_20_publisher</th>\n",
       "    </tr>\n",
       "  </thead>\n",
       "  <tbody>\n",
       "    <tr>\n",
       "      <th>0</th>\n",
       "      <td>4.57</td>\n",
       "      <td>eng</td>\n",
       "      <td>652</td>\n",
       "      <td>2095690</td>\n",
       "      <td>27591</td>\n",
       "      <td>13407</td>\n",
       "      <td>True</td>\n",
       "      <td>False</td>\n",
       "    </tr>\n",
       "    <tr>\n",
       "      <th>1</th>\n",
       "      <td>4.49</td>\n",
       "      <td>eng</td>\n",
       "      <td>870</td>\n",
       "      <td>2153167</td>\n",
       "      <td>29221</td>\n",
       "      <td>12662</td>\n",
       "      <td>True</td>\n",
       "      <td>False</td>\n",
       "    </tr>\n",
       "    <tr>\n",
       "      <th>2</th>\n",
       "      <td>4.42</td>\n",
       "      <td>eng</td>\n",
       "      <td>352</td>\n",
       "      <td>6333</td>\n",
       "      <td>244</td>\n",
       "      <td>12357</td>\n",
       "      <td>True</td>\n",
       "      <td>True</td>\n",
       "    </tr>\n",
       "  </tbody>\n",
       "</table>\n",
       "</div>"
      ],
      "text/plain": [
       "   average_rating language_code  num_pages  ratings_count  text_reviews_count  \\\n",
       "0            4.57           eng        652        2095690               27591   \n",
       "1            4.49           eng        870        2153167               29221   \n",
       "2            4.42           eng        352           6333                 244   \n",
       "\n",
       "   publication_date  is_top_20_author  is_top_20_publisher  \n",
       "0             13407              True                False  \n",
       "1             12662              True                False  \n",
       "2             12357              True                 True  "
      ]
     },
     "execution_count": 47,
     "metadata": {},
     "output_type": "execute_result"
    }
   ],
   "source": [
    "df.head(3)"
   ]
  },
  {
   "cell_type": "code",
   "execution_count": 48,
   "id": "1beee0f0",
   "metadata": {},
   "outputs": [
    {
     "data": {
      "text/plain": [
       "27"
      ]
     },
     "execution_count": 48,
     "metadata": {},
     "output_type": "execute_result"
    }
   ],
   "source": [
    "len(list(set(df.language_code)))"
   ]
  },
  {
   "cell_type": "code",
   "execution_count": 56,
   "id": "58e62b1c",
   "metadata": {},
   "outputs": [],
   "source": [
    "ratings_95 = np.percentile(df.ratings_count.values, 5)"
   ]
  },
  {
   "cell_type": "code",
   "execution_count": 58,
   "id": "969081a0",
   "metadata": {},
   "outputs": [
    {
     "data": {
      "text/plain": [
       "8.0"
      ]
     },
     "execution_count": 58,
     "metadata": {},
     "output_type": "execute_result"
    }
   ],
   "source": [
    "ratings_95"
   ]
  },
  {
   "cell_type": "code",
   "execution_count": 51,
   "id": "b9c9d0b7",
   "metadata": {},
   "outputs": [
    {
     "data": {
      "text/plain": [
       "array([2095690, 2153167,    6333, ...,     820,     769,     113])"
      ]
     },
     "execution_count": 51,
     "metadata": {},
     "output_type": "execute_result"
    }
   ],
   "source": [
    "df.ratings_count.values"
   ]
  },
  {
   "cell_type": "code",
   "execution_count": 52,
   "id": "a98e9d9b",
   "metadata": {},
   "outputs": [],
   "source": [
    "#Replace all english related language(en-US,en-GB,en-CA,enm) with one global code:eng\n",
    "df['language_code']=df['language_code'].replace(['en-US','en-GB','en-CA','eng','enm'],'eng')"
   ]
  },
  {
   "cell_type": "code",
   "execution_count": 53,
   "id": "268e7ce7",
   "metadata": {},
   "outputs": [
    {
     "data": {
      "text/plain": [
       "array(['ale', 'ara', 'eng', 'fre', 'ger', 'gla', 'glg', 'grc', 'ita',\n",
       "       'jpn', 'lat', 'msa', 'mul', 'nl', 'nor', 'por', 'rus', 'spa',\n",
       "       'srp', 'swe', 'tur', 'wel', 'zho'], dtype=object)"
      ]
     },
     "execution_count": 53,
     "metadata": {},
     "output_type": "execute_result"
    }
   ],
   "source": [
    "np.unique(df.language_code)"
   ]
  },
  {
   "cell_type": "code",
   "execution_count": 54,
   "id": "2eb27913",
   "metadata": {},
   "outputs": [],
   "source": [
    "# df['is_top_20_author'] = pd.to_numeric(df['is_top_20_author'])\n",
    "\n",
    "df.is_top_20_author = df.is_top_20_author.replace({True: 1, False: 0})\n",
    "df.is_top_20_publisher = df.is_top_20_publisher.replace({True: 1, False: 0})\n"
   ]
  },
  {
   "cell_type": "code",
   "execution_count": 55,
   "id": "045dc710",
   "metadata": {},
   "outputs": [
    {
     "data": {
      "text/plain": [
       "average_rating         float32\n",
       "language_code           object\n",
       "num_pages                int32\n",
       "ratings_count            int32\n",
       "text_reviews_count       int32\n",
       "publication_date         int64\n",
       "is_top_20_author         int64\n",
       "is_top_20_publisher      int64\n",
       "dtype: object"
      ]
     },
     "execution_count": 55,
     "metadata": {},
     "output_type": "execute_result"
    }
   ],
   "source": [
    "df.dtypes"
   ]
  },
  {
   "cell_type": "code",
   "execution_count": 79,
   "id": "d5c58e38",
   "metadata": {},
   "outputs": [
    {
     "name": "stdout",
     "output_type": "stream",
     "text": [
      "Collecting category_encoders\n",
      "  Downloading category_encoders-2.6.1-py2.py3-none-any.whl (81 kB)\n",
      "     ---------------------------------------- 81.9/81.9 kB 4.5 MB/s eta 0:00:00\n",
      "Requirement already satisfied: pandas>=1.0.5 in c:\\users\\deepanshu\\documents\\anaconda\\lib\\site-packages (from category_encoders) (1.5.3)\n",
      "Requirement already satisfied: scipy>=1.0.0 in c:\\users\\deepanshu\\documents\\anaconda\\lib\\site-packages (from category_encoders) (1.10.0)\n",
      "Requirement already satisfied: patsy>=0.5.1 in c:\\users\\deepanshu\\documents\\anaconda\\lib\\site-packages (from category_encoders) (0.5.3)\n",
      "Requirement already satisfied: statsmodels>=0.9.0 in c:\\users\\deepanshu\\documents\\anaconda\\lib\\site-packages (from category_encoders) (0.13.5)\n",
      "Requirement already satisfied: scikit-learn>=0.20.0 in c:\\users\\deepanshu\\documents\\anaconda\\lib\\site-packages (from category_encoders) (1.2.1)\n",
      "Requirement already satisfied: numpy>=1.14.0 in c:\\users\\deepanshu\\documents\\anaconda\\lib\\site-packages (from category_encoders) (1.23.5)\n",
      "Requirement already satisfied: pytz>=2020.1 in c:\\users\\deepanshu\\documents\\anaconda\\lib\\site-packages (from pandas>=1.0.5->category_encoders) (2022.7)\n",
      "Requirement already satisfied: python-dateutil>=2.8.1 in c:\\users\\deepanshu\\documents\\anaconda\\lib\\site-packages (from pandas>=1.0.5->category_encoders) (2.8.2)\n",
      "Requirement already satisfied: six in c:\\users\\deepanshu\\documents\\anaconda\\lib\\site-packages (from patsy>=0.5.1->category_encoders) (1.16.0)\n",
      "Requirement already satisfied: threadpoolctl>=2.0.0 in c:\\users\\deepanshu\\documents\\anaconda\\lib\\site-packages (from scikit-learn>=0.20.0->category_encoders) (2.2.0)\n",
      "Requirement already satisfied: joblib>=1.1.1 in c:\\users\\deepanshu\\documents\\anaconda\\lib\\site-packages (from scikit-learn>=0.20.0->category_encoders) (1.1.1)\n",
      "Requirement already satisfied: packaging>=21.3 in c:\\users\\deepanshu\\documents\\anaconda\\lib\\site-packages (from statsmodels>=0.9.0->category_encoders) (22.0)\n",
      "Installing collected packages: category_encoders\n",
      "Successfully installed category_encoders-2.6.1\n"
     ]
    }
   ],
   "source": [
    "!pip install category_encoders"
   ]
  },
  {
   "cell_type": "code",
   "execution_count": 59,
   "id": "7fd39263",
   "metadata": {},
   "outputs": [],
   "source": [
    "from category_encoders import BinaryEncoder"
   ]
  },
  {
   "cell_type": "code",
   "execution_count": 60,
   "id": "911feaff",
   "metadata": {},
   "outputs": [],
   "source": [
    "binary_encoder = BinaryEncoder(cols=['language_code'])\n",
    "df = binary_encoder.fit_transform(df)"
   ]
  },
  {
   "cell_type": "code",
   "execution_count": 61,
   "id": "7ac1626f",
   "metadata": {},
   "outputs": [
    {
     "data": {
      "text/html": [
       "<div>\n",
       "<style scoped>\n",
       "    .dataframe tbody tr th:only-of-type {\n",
       "        vertical-align: middle;\n",
       "    }\n",
       "\n",
       "    .dataframe tbody tr th {\n",
       "        vertical-align: top;\n",
       "    }\n",
       "\n",
       "    .dataframe thead th {\n",
       "        text-align: right;\n",
       "    }\n",
       "</style>\n",
       "<table border=\"1\" class=\"dataframe\">\n",
       "  <thead>\n",
       "    <tr style=\"text-align: right;\">\n",
       "      <th></th>\n",
       "      <th>average_rating</th>\n",
       "      <th>language_code_0</th>\n",
       "      <th>language_code_1</th>\n",
       "      <th>language_code_2</th>\n",
       "      <th>language_code_3</th>\n",
       "      <th>language_code_4</th>\n",
       "      <th>num_pages</th>\n",
       "      <th>ratings_count</th>\n",
       "      <th>text_reviews_count</th>\n",
       "      <th>publication_date</th>\n",
       "      <th>is_top_20_author</th>\n",
       "      <th>is_top_20_publisher</th>\n",
       "    </tr>\n",
       "  </thead>\n",
       "  <tbody>\n",
       "    <tr>\n",
       "      <th>0</th>\n",
       "      <td>4.57</td>\n",
       "      <td>0</td>\n",
       "      <td>0</td>\n",
       "      <td>0</td>\n",
       "      <td>0</td>\n",
       "      <td>1</td>\n",
       "      <td>652</td>\n",
       "      <td>2095690</td>\n",
       "      <td>27591</td>\n",
       "      <td>13407</td>\n",
       "      <td>1</td>\n",
       "      <td>0</td>\n",
       "    </tr>\n",
       "    <tr>\n",
       "      <th>1</th>\n",
       "      <td>4.49</td>\n",
       "      <td>0</td>\n",
       "      <td>0</td>\n",
       "      <td>0</td>\n",
       "      <td>0</td>\n",
       "      <td>1</td>\n",
       "      <td>870</td>\n",
       "      <td>2153167</td>\n",
       "      <td>29221</td>\n",
       "      <td>12662</td>\n",
       "      <td>1</td>\n",
       "      <td>0</td>\n",
       "    </tr>\n",
       "    <tr>\n",
       "      <th>2</th>\n",
       "      <td>4.42</td>\n",
       "      <td>0</td>\n",
       "      <td>0</td>\n",
       "      <td>0</td>\n",
       "      <td>0</td>\n",
       "      <td>1</td>\n",
       "      <td>352</td>\n",
       "      <td>6333</td>\n",
       "      <td>244</td>\n",
       "      <td>12357</td>\n",
       "      <td>1</td>\n",
       "      <td>1</td>\n",
       "    </tr>\n",
       "    <tr>\n",
       "      <th>3</th>\n",
       "      <td>4.56</td>\n",
       "      <td>0</td>\n",
       "      <td>0</td>\n",
       "      <td>0</td>\n",
       "      <td>0</td>\n",
       "      <td>1</td>\n",
       "      <td>435</td>\n",
       "      <td>2339585</td>\n",
       "      <td>36325</td>\n",
       "      <td>12539</td>\n",
       "      <td>1</td>\n",
       "      <td>0</td>\n",
       "    </tr>\n",
       "    <tr>\n",
       "      <th>4</th>\n",
       "      <td>4.78</td>\n",
       "      <td>0</td>\n",
       "      <td>0</td>\n",
       "      <td>0</td>\n",
       "      <td>0</td>\n",
       "      <td>1</td>\n",
       "      <td>2690</td>\n",
       "      <td>41428</td>\n",
       "      <td>164</td>\n",
       "      <td>12674</td>\n",
       "      <td>1</td>\n",
       "      <td>1</td>\n",
       "    </tr>\n",
       "    <tr>\n",
       "      <th>...</th>\n",
       "      <td>...</td>\n",
       "      <td>...</td>\n",
       "      <td>...</td>\n",
       "      <td>...</td>\n",
       "      <td>...</td>\n",
       "      <td>...</td>\n",
       "      <td>...</td>\n",
       "      <td>...</td>\n",
       "      <td>...</td>\n",
       "      <td>...</td>\n",
       "      <td>...</td>\n",
       "      <td>...</td>\n",
       "    </tr>\n",
       "    <tr>\n",
       "      <th>11122</th>\n",
       "      <td>4.06</td>\n",
       "      <td>0</td>\n",
       "      <td>0</td>\n",
       "      <td>0</td>\n",
       "      <td>0</td>\n",
       "      <td>1</td>\n",
       "      <td>512</td>\n",
       "      <td>156</td>\n",
       "      <td>20</td>\n",
       "      <td>12773</td>\n",
       "      <td>0</td>\n",
       "      <td>0</td>\n",
       "    </tr>\n",
       "    <tr>\n",
       "      <th>11123</th>\n",
       "      <td>4.08</td>\n",
       "      <td>0</td>\n",
       "      <td>0</td>\n",
       "      <td>0</td>\n",
       "      <td>0</td>\n",
       "      <td>1</td>\n",
       "      <td>635</td>\n",
       "      <td>783</td>\n",
       "      <td>56</td>\n",
       "      <td>6909</td>\n",
       "      <td>0</td>\n",
       "      <td>0</td>\n",
       "    </tr>\n",
       "    <tr>\n",
       "      <th>11124</th>\n",
       "      <td>3.96</td>\n",
       "      <td>0</td>\n",
       "      <td>0</td>\n",
       "      <td>0</td>\n",
       "      <td>0</td>\n",
       "      <td>1</td>\n",
       "      <td>415</td>\n",
       "      <td>820</td>\n",
       "      <td>95</td>\n",
       "      <td>8613</td>\n",
       "      <td>0</td>\n",
       "      <td>0</td>\n",
       "    </tr>\n",
       "    <tr>\n",
       "      <th>11125</th>\n",
       "      <td>3.72</td>\n",
       "      <td>0</td>\n",
       "      <td>0</td>\n",
       "      <td>0</td>\n",
       "      <td>0</td>\n",
       "      <td>1</td>\n",
       "      <td>434</td>\n",
       "      <td>769</td>\n",
       "      <td>139</td>\n",
       "      <td>13571</td>\n",
       "      <td>0</td>\n",
       "      <td>0</td>\n",
       "    </tr>\n",
       "    <tr>\n",
       "      <th>11126</th>\n",
       "      <td>3.91</td>\n",
       "      <td>0</td>\n",
       "      <td>0</td>\n",
       "      <td>0</td>\n",
       "      <td>1</td>\n",
       "      <td>1</td>\n",
       "      <td>272</td>\n",
       "      <td>113</td>\n",
       "      <td>12</td>\n",
       "      <td>13296</td>\n",
       "      <td>0</td>\n",
       "      <td>0</td>\n",
       "    </tr>\n",
       "  </tbody>\n",
       "</table>\n",
       "<p>11127 rows × 12 columns</p>\n",
       "</div>"
      ],
      "text/plain": [
       "       average_rating  language_code_0  language_code_1  language_code_2  \\\n",
       "0                4.57                0                0                0   \n",
       "1                4.49                0                0                0   \n",
       "2                4.42                0                0                0   \n",
       "3                4.56                0                0                0   \n",
       "4                4.78                0                0                0   \n",
       "...               ...              ...              ...              ...   \n",
       "11122            4.06                0                0                0   \n",
       "11123            4.08                0                0                0   \n",
       "11124            3.96                0                0                0   \n",
       "11125            3.72                0                0                0   \n",
       "11126            3.91                0                0                0   \n",
       "\n",
       "       language_code_3  language_code_4  num_pages  ratings_count  \\\n",
       "0                    0                1        652        2095690   \n",
       "1                    0                1        870        2153167   \n",
       "2                    0                1        352           6333   \n",
       "3                    0                1        435        2339585   \n",
       "4                    0                1       2690          41428   \n",
       "...                ...              ...        ...            ...   \n",
       "11122                0                1        512            156   \n",
       "11123                0                1        635            783   \n",
       "11124                0                1        415            820   \n",
       "11125                0                1        434            769   \n",
       "11126                1                1        272            113   \n",
       "\n",
       "       text_reviews_count  publication_date  is_top_20_author  \\\n",
       "0                   27591             13407                 1   \n",
       "1                   29221             12662                 1   \n",
       "2                     244             12357                 1   \n",
       "3                   36325             12539                 1   \n",
       "4                     164             12674                 1   \n",
       "...                   ...               ...               ...   \n",
       "11122                  20             12773                 0   \n",
       "11123                  56              6909                 0   \n",
       "11124                  95              8613                 0   \n",
       "11125                 139             13571                 0   \n",
       "11126                  12             13296                 0   \n",
       "\n",
       "       is_top_20_publisher  \n",
       "0                        0  \n",
       "1                        0  \n",
       "2                        1  \n",
       "3                        0  \n",
       "4                        1  \n",
       "...                    ...  \n",
       "11122                    0  \n",
       "11123                    0  \n",
       "11124                    0  \n",
       "11125                    0  \n",
       "11126                    0  \n",
       "\n",
       "[11127 rows x 12 columns]"
      ]
     },
     "execution_count": 61,
     "metadata": {},
     "output_type": "execute_result"
    }
   ],
   "source": [
    "df"
   ]
  },
  {
   "cell_type": "markdown",
   "id": "97c18c56",
   "metadata": {},
   "source": [
    "###  Lets filter outer data on the basis of 95 percentile rule. "
   ]
  },
  {
   "cell_type": "code",
   "execution_count": 63,
   "id": "28971deb",
   "metadata": {},
   "outputs": [],
   "source": [
    "df= df.loc[df.loc[:, 'ratings_count'] > 8]"
   ]
  },
  {
   "cell_type": "code",
   "execution_count": 64,
   "id": "3c6b4471",
   "metadata": {},
   "outputs": [
    {
     "data": {
      "text/plain": [
       "(10513, 12)"
      ]
     },
     "execution_count": 64,
     "metadata": {},
     "output_type": "execute_result"
    }
   ],
   "source": [
    "df.shape"
   ]
  },
  {
   "cell_type": "markdown",
   "id": "10e5b779",
   "metadata": {},
   "source": [
    "###  Lets separate out X and y"
   ]
  },
  {
   "cell_type": "code",
   "execution_count": 65,
   "id": "bd455165",
   "metadata": {},
   "outputs": [],
   "source": [
    "X = df.iloc[:,1:]\n",
    "y = df.iloc[:,1]"
   ]
  },
  {
   "cell_type": "markdown",
   "id": "3efd2f9c",
   "metadata": {},
   "source": [
    "###  Let's apply min max scaler "
   ]
  },
  {
   "cell_type": "code",
   "execution_count": 66,
   "id": "7d7217a0",
   "metadata": {},
   "outputs": [],
   "source": [
    "from sklearn.preprocessing import MinMaxScaler\n",
    "scaler = MinMaxScaler()\n",
    "X = scaler.fit_transform(X)\n"
   ]
  },
  {
   "cell_type": "markdown",
   "id": "5358910c",
   "metadata": {},
   "source": [
    "### Apply linear regression "
   ]
  },
  {
   "cell_type": "code",
   "execution_count": 68,
   "id": "c23ebe70",
   "metadata": {},
   "outputs": [
    {
     "name": "stdout",
     "output_type": "stream",
     "text": [
      "Avg accuracy: 0.6\n"
     ]
    }
   ],
   "source": [
    "import pandas as pd\n",
    "from sklearn.linear_model import LogisticRegression\n",
    "from sklearn.model_selection import cross_val_score\n",
    "from sklearn.model_selection import KFold\n",
    "from sklearn.linear_model import LinearRegression\n",
    "\n",
    " \n",
    "k = 5\n",
    "kf = KFold(n_splits=k, random_state=None)\n",
    "lr_model= LinearRegression()\n",
    "\n",
    "result = cross_val_score(lr_model , X, y, scoring='r2', cv = kf)\n",
    "\n",
    "print(\"Avg accuracy: {}\".format(result.mean()))"
   ]
  },
  {
   "cell_type": "markdown",
   "id": "38e2389d",
   "metadata": {},
   "source": [
    "### We see we have fair accuracy just by linear regression.  [Ref](https://stephenallwright.com/good-accuracy-score/)"
   ]
  },
  {
   "cell_type": "code",
   "execution_count": null,
   "id": "2ecc35c0",
   "metadata": {},
   "outputs": [],
   "source": []
  }
 ],
 "metadata": {
  "kernelspec": {
   "display_name": "Python 3 (ipykernel)",
   "language": "python",
   "name": "python3"
  },
  "language_info": {
   "codemirror_mode": {
    "name": "ipython",
    "version": 3
   },
   "file_extension": ".py",
   "mimetype": "text/x-python",
   "name": "python",
   "nbconvert_exporter": "python",
   "pygments_lexer": "ipython3",
   "version": "3.10.9"
  }
 },
 "nbformat": 4,
 "nbformat_minor": 5
}
